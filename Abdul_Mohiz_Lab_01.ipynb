{
  "nbformat": 4,
  "nbformat_minor": 0,
  "metadata": {
    "colab": {
      "provenance": [],
      "authorship_tag": "ABX9TyOjZHTOLAV+Jrs4etoW/Sbf",
      "include_colab_link": true
    },
    "kernelspec": {
      "name": "python3",
      "display_name": "Python 3"
    },
    "language_info": {
      "name": "python"
    }
  },
  "cells": [
    {
      "cell_type": "markdown",
      "metadata": {
        "id": "view-in-github",
        "colab_type": "text"
      },
      "source": [
        "<a href=\"https://colab.research.google.com/github/abdulmohiz001/Programming-For-AI-Lab/blob/main/Abdul_Mohiz_Lab_01.ipynb\" target=\"_parent\"><img src=\"https://colab.research.google.com/assets/colab-badge.svg\" alt=\"Open In Colab\"/></a>"
      ]
    },
    {
      "cell_type": "code",
      "execution_count": 1,
      "metadata": {
        "colab": {
          "base_uri": "https://localhost:8080/"
        },
        "id": "DyXA9EMCOxtc",
        "outputId": "178d6427-c2d7-41bb-e5da-7f06c76c899e"
      },
      "outputs": [
        {
          "output_type": "stream",
          "name": "stdout",
          "text": [
            "Integer variable: 10\n",
            "Floating-point variable: 3.14\n",
            "String variable: Hello, world!\n",
            "Boolean variable: True\n"
          ]
        }
      ],
      "source": [
        "# Integer variable\n",
        "integer_var = 10\n",
        "# Floating-point variable\n",
        "float_var = 3.14\n",
        "# String variable\n",
        "string_var = \"Hello, world!\"\n",
        "# Boolean variable\n",
        "boolean_var = True\n",
        "\n",
        "# Print variables\n",
        "print(\"Integer variable:\", integer_var)\n",
        "print(\"Floating-point variable:\", float_var)\n",
        "print(\"String variable:\", string_var)\n",
        "print(\"Boolean variable:\", boolean_var)"
      ]
    },
    {
      "cell_type": "code",
      "source": [
        "my_variable = 10\n",
        "myVar = \"Hello\"\n",
        "_my_var = True\n",
        "var_123 = 3.14\n",
        "var_with_underscore = \"underscore\"\n",
        "\n",
        "# Print variables\n",
        "print(\"my_variable:\", my_variable)\n",
        "print(\"myVar:\", myVar)\n",
        "print(\"_my_var:\", _my_var)\n",
        "print(\"var_123:\", var_123)\n",
        "print(\"var_with_underscore:\", var_with_underscore)"
      ],
      "metadata": {
        "colab": {
          "base_uri": "https://localhost:8080/"
        },
        "id": "h6dHxuTPQFY3",
        "outputId": "2c8da314-1d13-4fe8-f212-069dc30634ef"
      },
      "execution_count": 4,
      "outputs": [
        {
          "output_type": "stream",
          "name": "stdout",
          "text": [
            "my_variable: 10\n",
            "myVar: Hello\n",
            "_my_var: True\n",
            "var_123: 3.14\n",
            "var_with_underscore: underscore\n"
          ]
        }
      ]
    },
    {
      "cell_type": "code",
      "source": [
        "### Single line, multiple variables with single values:\n",
        "# Example 1\n",
        "x, y, z = 10, 20, 30\n",
        "print(x, y, z)\n",
        "# Example 2\n",
        "name, age, city = \"John\", 25, \"New York\"\n",
        "print(name, age, city)\n",
        "\n",
        "### Single line, single variable with multiple values:\n",
        "# Example 1\n",
        "numbers = 1, 2, 3, 4, 5\n",
        "print(numbers)\n",
        "# Example 2\n",
        "coords = (0, 0), (1, 1), (2, 3)\n",
        "print(coords)"
      ],
      "metadata": {
        "colab": {
          "base_uri": "https://localhost:8080/"
        },
        "id": "QwyRphtQSw0q",
        "outputId": "0895320f-835c-4196-bdba-6f38079caf98"
      },
      "execution_count": 5,
      "outputs": [
        {
          "output_type": "stream",
          "name": "stdout",
          "text": [
            "10 20 30\n",
            "John 25 New York\n",
            "(1, 2, 3, 4, 5)\n",
            "((0, 0), (1, 1), (2, 3))\n"
          ]
        }
      ]
    },
    {
      "cell_type": "code",
      "source": [
        "# Arithmetic operations on integers\n",
        "integer_var1 = 10\n",
        "integer_var2 = 5\n",
        "# Adding\n",
        "addition_int = integer_var1 + integer_var2\n",
        "# Subtracting\n",
        "subtraction_int = integer_var1 - integer_var2\n",
        "# Multiplication\n",
        "multiplication_int = integer_var1 * integer_var2\n",
        "# Dividing\n",
        "division_int = integer_var1 / integer_var2\n",
        "\n",
        "print(\"Integer arithmetic:\")\n",
        "print(\"Addition:\", addition_int)\n",
        "print(\"Subtraction:\", subtraction_int)\n",
        "print(\"Multiplication:\", multiplication_int)\n",
        "print(\"Division:\", division_int)"
      ],
      "metadata": {
        "colab": {
          "base_uri": "https://localhost:8080/"
        },
        "id": "C9bTHxQWTh6q",
        "outputId": "33dba353-2782-43a6-acde-58b70115712e"
      },
      "execution_count": 6,
      "outputs": [
        {
          "output_type": "stream",
          "name": "stdout",
          "text": [
            "Integer arithmetic:\n",
            "Addition: 15\n",
            "Subtraction: 5\n",
            "Multiplication: 50\n",
            "Division: 2.0\n"
          ]
        }
      ]
    },
    {
      "cell_type": "code",
      "source": [
        "# Arithmetic operations on floating-point numbers\n",
        "float_var1 = 3.14\n",
        "float_var2 = 1.5\n",
        "# Adding\n",
        "addition_float = float_var1 + float_var2\n",
        "# Subtracting\n",
        "subtraction_float = float_var1 - float_var2\n",
        "# Multiplication\n",
        "multiplication_float = float_var1 * float_var2\n",
        "# Dividing\n",
        "division_float = float_var1 / float_var2\n",
        "\n",
        "print(\"\\nFloating-point arithmetic:\")\n",
        "print(\"Addition:\", addition_float)\n",
        "print(\"Subtraction:\", subtraction_float)\n",
        "print(\"Multiplication:\", multiplication_float)\n",
        "print(\"Division:\", division_float)"
      ],
      "metadata": {
        "colab": {
          "base_uri": "https://localhost:8080/"
        },
        "id": "0fZCWl2wUAkV",
        "outputId": "d4de7f02-0893-4078-a256-df71df72359e"
      },
      "execution_count": 7,
      "outputs": [
        {
          "output_type": "stream",
          "name": "stdout",
          "text": [
            "\n",
            "Floating-point arithmetic:\n",
            "Addition: 4.640000000000001\n",
            "Subtraction: 1.6400000000000001\n",
            "Multiplication: 4.71\n",
            "Division: 2.0933333333333333\n"
          ]
        }
      ]
    },
    {
      "cell_type": "code",
      "source": [
        "# Using single quotes\n",
        "single_quotes_string = 'Hello, world!'\n",
        "print(single_quotes_string)\n",
        "# Using double quotes\n",
        "double_quotes_string = \"Hello, world!\"\n",
        "print(double_quotes_string)\n",
        "# Using double quotes when the string contains a single quote\n",
        "string_with_single_quote = \"It's a beautiful day.\"\n",
        "print(string_with_single_quote)\n",
        "# Using single quotes when the string contains double quotes\n",
        "string_with_double_quotes = 'He said, \"Hello!\"'\n",
        "print(string_with_double_quotes)"
      ],
      "metadata": {
        "colab": {
          "base_uri": "https://localhost:8080/"
        },
        "id": "E5oJhNvLUzzD",
        "outputId": "22515c76-e39e-44b6-ee15-5219dd9cc047"
      },
      "execution_count": 8,
      "outputs": [
        {
          "output_type": "stream",
          "name": "stdout",
          "text": [
            "Hello, world!\n",
            "Hello, world!\n",
            "It's a beautiful day.\n",
            "He said, \"Hello!\"\n"
          ]
        }
      ]
    },
    {
      "cell_type": "code",
      "source": [
        "# Example of using the print() function to output a variable\n",
        "x = 10\n",
        "print(x)\n",
        "# Example of outputting multiple variables with print()\n",
        "y = 20\n",
        "print(x, y)\n",
        "# Example of using f-strings to format output\n",
        "name = \"Alice\"\n",
        "age = 30\n",
        "print(f\"My name is {name} and I am {age} years old.\")\n",
        "# Example of using f-strings to manipulate variables in output\n",
        "num1 = 5\n",
        "num2 = 3\n",
        "print(f\"The sum of {num1} and {num2} is {num1 + num2}.\")"
      ],
      "metadata": {
        "colab": {
          "base_uri": "https://localhost:8080/"
        },
        "id": "u6nuot1uVcoz",
        "outputId": "e4036a6c-e817-4159-832a-df1defebc801"
      },
      "execution_count": 13,
      "outputs": [
        {
          "output_type": "stream",
          "name": "stdout",
          "text": [
            "10\n",
            "10 20\n",
            "My name is Alice and I am 30 years old.\n",
            "The sum of 5 and 3 is 8.\n"
          ]
        }
      ]
    }
  ]
}