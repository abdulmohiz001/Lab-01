{
  "nbformat": 4,
  "nbformat_minor": 0,
  "metadata": {
    "colab": {
      "provenance": [],
      "authorship_tag": "ABX9TyP7bcRd6CXtAabYR3m12Gux",
      "include_colab_link": true
    },
    "kernelspec": {
      "name": "python3",
      "display_name": "Python 3"
    },
    "language_info": {
      "name": "python"
    }
  },
  "cells": [
    {
      "cell_type": "markdown",
      "metadata": {
        "id": "view-in-github",
        "colab_type": "text"
      },
      "source": [
        "<a href=\"https://colab.research.google.com/github/abdulmohiz001/Programming-For-AI-Lab/blob/main/Abdul_Mohiz_Lab_07.ipynb\" target=\"_parent\"><img src=\"https://colab.research.google.com/assets/colab-badge.svg\" alt=\"Open In Colab\"/></a>"
      ]
    },
    {
      "cell_type": "markdown",
      "source": [
        "**The code input a number from the user and implies a sequence of if conditions to determine its properties, including evenness, and divisibility by specific integers.**"
      ],
      "metadata": {
        "id": "9jUvSLUrHvmY"
      }
    },
    {
      "cell_type": "code",
      "source": [
        "# Taking user input\n",
        "number = 10\n",
        "\n",
        "if number % 2 == 0:\n",
        "    print(\"The number is even.\")\n",
        "if number % 3 == 0:\n",
        "    print(\"The number is divisible by 3.\")\n",
        "if number % 5 == 0:\n",
        "    print(\"The number is divisible by 5.\")\n",
        "if number % 9 == 0:\n",
        "    print(\"The number is divisible by 9.\")\n",
        "\n",
        "print(\"Finish\")"
      ],
      "metadata": {
        "colab": {
          "base_uri": "https://localhost:8080/"
        },
        "id": "6Bzyn3twIHaa",
        "outputId": "8704370f-1f61-4e89-f234-c02ac3aba39c"
      },
      "execution_count": 2,
      "outputs": [
        {
          "output_type": "stream",
          "name": "stdout",
          "text": [
            "The number is even.\n",
            "The number is divisible by 5.\n",
            "Finish\n"
          ]
        }
      ]
    },
    {
      "cell_type": "markdown",
      "source": [
        "Comparison Operator"
      ],
      "metadata": {
        "id": "PdyY3WvhZHSK"
      }
    },
    {
      "cell_type": "markdown",
      "source": [
        "The comparison operator are used to compare values. The allow you to compare two values and determine relationship between them.\n",
        "\n",
        "**Example:**\n",
        "1. Equal to ( == )\n",
        "2. Not Equal ( != )\n",
        "3. Greater than ( > )\n",
        "4. Less than ( < )\n",
        "5. Greater than or Equals to ( >= )\n",
        "6. Less then or Equals to ( <= )"
      ],
      "metadata": {
        "id": "3yVnw14IZMlm"
      }
    },
    {
      "cell_type": "markdown",
      "source": [
        "**This Python code checks if a person is eligible to vote by asking for their age and citizenship. If the person is a citizen and 18 years or older, it declares them eligible to vote; otherwise, it declares them ineligible.**"
      ],
      "metadata": {
        "id": "F9gz9xyOcckM"
      }
    },
    {
      "cell_type": "code",
      "source": [
        "age = int(input(\"Enter your age: \"))\n",
        "citizenship = input(\"Are you a citizen? (yes/no): \").lower()\n",
        "\n",
        "if citizenship == \"yes\":\n",
        "    if age >= 18:\n",
        "        print(\"You are eligible to vote.\")\n",
        "    else:\n",
        "        print(\"You must be at least 18 years old to vote.\")\n",
        "else:\n",
        "    print(\"Only citizens are eligible to vote.\")"
      ],
      "metadata": {
        "colab": {
          "base_uri": "https://localhost:8080/"
        },
        "id": "2AFkGFR2cSGV",
        "outputId": "dabda476-94f4-45ad-c5e3-0c046f2d822a"
      },
      "execution_count": 4,
      "outputs": [
        {
          "output_type": "stream",
          "name": "stdout",
          "text": [
            "Enter your age: 18\n",
            "Are you a citizen? (yes/no): yes\n",
            "You are eligible to vote.\n"
          ]
        }
      ]
    },
    {
      "cell_type": "markdown",
      "source": [
        "**This Python code takes a number input from the user and determines if it's positive or negative, then prints the result accordingly.**\n",
        "\n",
        "\n",
        "\n",
        "\n",
        "\n"
      ],
      "metadata": {
        "id": "cKIdANoZcqT7"
      }
    },
    {
      "cell_type": "code",
      "source": [
        "number = float(input(\"Enter a number: \"))\n",
        "\n",
        "if number >= 0:\n",
        "    print(\"The number is positive or zero.\")\n",
        "else:\n",
        "    print(\"The number is negative.\")"
      ],
      "metadata": {
        "colab": {
          "base_uri": "https://localhost:8080/"
        },
        "id": "jO9TVaCtdQ1H",
        "outputId": "83551fa9-2029-494c-87f4-40664b5637a7"
      },
      "execution_count": 3,
      "outputs": [
        {
          "output_type": "stream",
          "name": "stdout",
          "text": [
            "Enter a number: 10\n",
            "The number is positive or zero.\n"
          ]
        }
      ]
    },
    {
      "cell_type": "markdown",
      "source": [
        "**The code prompts user to give number and checks the number is greater or less than each other.**"
      ],
      "metadata": {
        "id": "O7FcwU_TepGz"
      }
    },
    {
      "cell_type": "code",
      "source": [
        "num = int(input('Enter a number: '))\n",
        "\n",
        "if num > 50:\n",
        "  if num > 75:\n",
        "    print(\"Greater\")\n",
        "  else:\n",
        "    print('Greater than 50 and Less then 75')\n",
        "\n",
        "else:\n",
        "  if num < 25:\n",
        "    print('Less')\n",
        "  else:\n",
        "    print('Greater then 25 Less then 50')"
      ],
      "metadata": {
        "colab": {
          "base_uri": "https://localhost:8080/"
        },
        "id": "LXO7KMo4kAlX",
        "outputId": "cd0bba57-4bd0-46c4-c290-c2c5297a0a71"
      },
      "execution_count": 11,
      "outputs": [
        {
          "output_type": "stream",
          "name": "stdout",
          "text": [
            "Enter a number: 60\n",
            "Greater than 50 and Less then 75\n"
          ]
        }
      ]
    }
  ]
}