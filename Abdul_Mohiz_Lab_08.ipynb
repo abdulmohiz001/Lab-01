{
  "nbformat": 4,
  "nbformat_minor": 0,
  "metadata": {
    "colab": {
      "provenance": [],
      "authorship_tag": "ABX9TyPmss9xcS2yCBSdGVDXeqv8",
      "include_colab_link": true
    },
    "kernelspec": {
      "name": "python3",
      "display_name": "Python 3"
    },
    "language_info": {
      "name": "python"
    }
  },
  "cells": [
    {
      "cell_type": "markdown",
      "metadata": {
        "id": "view-in-github",
        "colab_type": "text"
      },
      "source": [
        "<a href=\"https://colab.research.google.com/github/abdulmohiz001/Programming-For-AI-Lab/blob/main/Abdul_Mohiz_Lab_08.ipynb\" target=\"_parent\"><img src=\"https://colab.research.google.com/assets/colab-badge.svg\" alt=\"Open In Colab\"/></a>"
      ]
    },
    {
      "cell_type": "code",
      "execution_count": 1,
      "metadata": {
        "colab": {
          "base_uri": "https://localhost:8080/"
        },
        "id": "C6U8CBC4QStg",
        "outputId": "1c5a7dfb-9729-4ced-f28c-2fbaa5b5ccb7"
      },
      "outputs": [
        {
          "output_type": "stream",
          "name": "stdout",
          "text": [
            "Abdul Mohiz B21F0169AI016\n"
          ]
        }
      ],
      "source": [
        "def abdulmohiz():\n",
        "  print(\"Abdul Mohiz\" , \"B21F0169AI016\")\n",
        "\n",
        "abdulmohiz()"
      ]
    },
    {
      "cell_type": "code",
      "source": [
        "def lab08():\n",
        "  print(\"Maam Aneela Habib\")\n",
        "  print(\"Abdul Mohiz\")\n",
        "  print(\"Hassan Javed\")\n",
        "  print(\"Hammad Akhter\")\n",
        "\n",
        "lab08()"
      ],
      "metadata": {
        "colab": {
          "base_uri": "https://localhost:8080/"
        },
        "id": "1YtKhJ7STVOh",
        "outputId": "c3fbf913-9256-41f5-8a1c-5354f970c699"
      },
      "execution_count": 2,
      "outputs": [
        {
          "output_type": "stream",
          "name": "stdout",
          "text": [
            "Maam Aneela Habib\n",
            "Abdul Mohiz\n",
            "Hassan Javed\n",
            "Hammad Akhter\n"
          ]
        }
      ]
    },
    {
      "cell_type": "code",
      "source": [
        "def artificialintelligence( blue ):\n",
        "  print(\"Hello !\" , blue)\n",
        "\n",
        "artificialintelligence(\"Abdul Mohiz\")"
      ],
      "metadata": {
        "colab": {
          "base_uri": "https://localhost:8080/"
        },
        "id": "X5MscKozY7-Z",
        "outputId": "08caaa4c-3c03-4008-89f6-908b2f74745c"
      },
      "execution_count": 8,
      "outputs": [
        {
          "output_type": "stream",
          "name": "stdout",
          "text": [
            "Hello ! Abdul Mohiz\n"
          ]
        }
      ]
    },
    {
      "cell_type": "code",
      "source": [
        "def artificialintelligence( name , registration_no , department , semester):\n",
        "  print(\"Hello !\" , name)\n",
        "  print( \"Registration Number :\" , registration_no)\n",
        "  print( \"Department :\" , department)\n",
        "  print( \"Semester :\" , semester)\n",
        "\n",
        "artificialintelligence(\"Abdul Mohiz\" , \"B21F0169AI016\" , \"Artificial Intelligence\" , \"5th\")"
      ],
      "metadata": {
        "colab": {
          "base_uri": "https://localhost:8080/"
        },
        "id": "WJ8NWa9eZw56",
        "outputId": "3f6f2713-b5b5-46d5-ce3c-147dfe6daf28"
      },
      "execution_count": 10,
      "outputs": [
        {
          "output_type": "stream",
          "name": "stdout",
          "text": [
            "Hello ! Abdul Mohiz\n",
            "Registration Number : B21F0169AI016\n",
            "Department : Artificial Intelligence\n",
            "Semester : 5th\n"
          ]
        }
      ]
    }
  ]
}