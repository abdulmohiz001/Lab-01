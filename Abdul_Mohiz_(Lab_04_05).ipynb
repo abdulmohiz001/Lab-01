{
  "nbformat": 4,
  "nbformat_minor": 0,
  "metadata": {
    "colab": {
      "provenance": [],
      "authorship_tag": "ABX9TyMH6EjmQHQ6PNJxnShbFFLA",
      "include_colab_link": true
    },
    "kernelspec": {
      "name": "python3",
      "display_name": "Python 3"
    },
    "language_info": {
      "name": "python"
    }
  },
  "cells": [
    {
      "cell_type": "markdown",
      "metadata": {
        "id": "view-in-github",
        "colab_type": "text"
      },
      "source": [
        "<a href=\"https://colab.research.google.com/github/abdulmohiz001/Programming-For-AI-Lab/blob/main/Abdul_Mohiz_(Lab_04_05).ipynb\" target=\"_parent\"><img src=\"https://colab.research.google.com/assets/colab-badge.svg\" alt=\"Open In Colab\"/></a>"
      ]
    },
    {
      "cell_type": "markdown",
      "source": [
        "1.\tAccess List Items:  \n",
        "•\tCreate a list of fruits.  \n",
        "•\tPrint the first and last items of the list."
      ],
      "metadata": {
        "id": "2T5GM0Lr3Cjf"
      }
    },
    {
      "cell_type": "code",
      "source": [
        "fruits = [\"Apple\", \"Banana\", \"Cherry\", \"Date\"]\n",
        "print(\"First item:\", fruits[0])\n",
        "print(\"Last item:\", fruits[-1])"
      ],
      "metadata": {
        "colab": {
          "base_uri": "https://localhost:8080/"
        },
        "id": "0TUwvX0J3IhY",
        "outputId": "68b5f9b9-a4fe-4945-c4d8-a79acd9cad9e"
      },
      "execution_count": null,
      "outputs": [
        {
          "output_type": "stream",
          "name": "stdout",
          "text": [
            "First item: Apple\n",
            "Last item: Date\n"
          ]
        }
      ]
    },
    {
      "cell_type": "markdown",
      "source": [
        "2.\tChange List Items:  \n",
        "•\tCreate a list of colors.  \n",
        "•\tChange the second item in the list to \"blue\"."
      ],
      "metadata": {
        "id": "AzWKb25F3XOT"
      }
    },
    {
      "cell_type": "code",
      "source": [
        "colors = [\"Red\", \"Green\", \"Yellow\", \"Orange\"]\n",
        "colors[1] = \"Blue\"\n",
        "print(colors)"
      ],
      "metadata": {
        "colab": {
          "base_uri": "https://localhost:8080/"
        },
        "id": "TJiQ6_U93b3F",
        "outputId": "4af10933-bf79-4b03-c161-28313b3ba194"
      },
      "execution_count": null,
      "outputs": [
        {
          "output_type": "stream",
          "name": "stdout",
          "text": [
            "['Red', 'Blue', 'Yellow', 'Orange']\n"
          ]
        }
      ]
    },
    {
      "cell_type": "markdown",
      "source": [
        "3.\tAdd List Items:  \n",
        "•\tCreate a list of numbers.  \n",
        "•\tAdd the number 10 at the end of the list."
      ],
      "metadata": {
        "id": "KLhgAkHy3fgt"
      }
    },
    {
      "cell_type": "code",
      "source": [
        "numbers = [1, 2, 3, 4, 5]\n",
        "numbers.append(10)\n",
        "print(numbers)"
      ],
      "metadata": {
        "colab": {
          "base_uri": "https://localhost:8080/"
        },
        "id": "CAw_hiui3j0u",
        "outputId": "b5e42b96-b466-43bf-edc0-045ad13d669d"
      },
      "execution_count": null,
      "outputs": [
        {
          "output_type": "stream",
          "name": "stdout",
          "text": [
            "[1, 2, 3, 4, 5, 10]\n"
          ]
        }
      ]
    },
    {
      "cell_type": "markdown",
      "source": [
        "4.\tRemove List Items:  \n",
        "•\tCreate a list of animals.  \n",
        "•\tRemove the third item from the list."
      ],
      "metadata": {
        "id": "1p8NXYLl3tMp"
      }
    },
    {
      "cell_type": "code",
      "source": [
        "animals = [\"Lion\", \"Tiger\", \"Elephant\", \"Giraffe\"]\n",
        "del animals[2]\n",
        "print(animals)"
      ],
      "metadata": {
        "colab": {
          "base_uri": "https://localhost:8080/"
        },
        "id": "SoMklUJD3xc8",
        "outputId": "7af218e2-4208-44d1-ecff-becc35f8aac6"
      },
      "execution_count": null,
      "outputs": [
        {
          "output_type": "stream",
          "name": "stdout",
          "text": [
            "['Lion', 'Tiger', 'Giraffe']\n"
          ]
        }
      ]
    },
    {
      "cell_type": "markdown",
      "source": [
        "5.\tLoop Lists:  \n",
        "•\tCreate a list of cities.  \n",
        "•\tLoop through the list and print each city."
      ],
      "metadata": {
        "id": "uPccObqs310C"
      }
    },
    {
      "cell_type": "code",
      "source": [
        "cities = [\"New York\", \"London\", \"Paris\", \"Tokyo\"]\n",
        "for city in cities:\n",
        "    print(city)"
      ],
      "metadata": {
        "colab": {
          "base_uri": "https://localhost:8080/"
        },
        "id": "ZLO6NW2O359j",
        "outputId": "b57f09ab-45bf-4793-e7e1-9d14f9b73a14"
      },
      "execution_count": null,
      "outputs": [
        {
          "output_type": "stream",
          "name": "stdout",
          "text": [
            "New York\n",
            "London\n",
            "Paris\n",
            "Tokyo\n"
          ]
        }
      ]
    },
    {
      "cell_type": "markdown",
      "source": [
        "6.\tList Comprehension:  \n",
        "•\tCreate a list of numbers from 1 to 10.  \n",
        "•\tUse list comprehension to create a new list containing the square of each number."
      ],
      "metadata": {
        "id": "HphnfLMy3-nh"
      }
    },
    {
      "cell_type": "code",
      "source": [
        "numbers = [i for i in range(1, 11)]\n",
        "squared_numbers = [num**2 for num in numbers]\n",
        "print(squared_numbers)"
      ],
      "metadata": {
        "colab": {
          "base_uri": "https://localhost:8080/"
        },
        "id": "E1JmJhCe4C0_",
        "outputId": "18c3e7e3-0453-4223-99dc-37fa8f462a0e"
      },
      "execution_count": null,
      "outputs": [
        {
          "output_type": "stream",
          "name": "stdout",
          "text": [
            "[1, 4, 9, 16, 25, 36, 49, 64, 81, 100]\n"
          ]
        }
      ]
    },
    {
      "cell_type": "markdown",
      "source": [
        "7.\tSort Lists:  \n",
        "•\tCreate a list of names.  \n",
        "•\tSort the list alphabetically."
      ],
      "metadata": {
        "id": "-GHeXQL84G8s"
      }
    },
    {
      "cell_type": "code",
      "source": [
        "names = [\"Hassan\", \"Mohiz\", \"Ali\", \"Inam\"]\n",
        "names.sort()\n",
        "print(\"Sorted Names\",names)"
      ],
      "metadata": {
        "colab": {
          "base_uri": "https://localhost:8080/"
        },
        "id": "SkMhtRK04KuU",
        "outputId": "325e9d2b-deb3-4008-afa7-e5ff9913c49e"
      },
      "execution_count": null,
      "outputs": [
        {
          "output_type": "stream",
          "name": "stdout",
          "text": [
            "Sorted Names ['Ali', 'Hassan', 'Inam', 'Mohiz']\n"
          ]
        }
      ]
    },
    {
      "cell_type": "markdown",
      "source": [
        "8.\tCopy Lists:  \n",
        "•\tCreate a list of fruits.  \n",
        "•\tCopy the list into a new list."
      ],
      "metadata": {
        "id": "7iYTxTaS4PaN"
      }
    },
    {
      "cell_type": "code",
      "source": [
        "fruits = [\"Apple\", \"Banana\", \"Orange\", \"Grape\"]\n",
        "copied_fruits = fruits.copy()\n",
        "print(copied_fruits)"
      ],
      "metadata": {
        "colab": {
          "base_uri": "https://localhost:8080/"
        },
        "id": "BA8iFlZt4TPT",
        "outputId": "0b9cf654-fed6-4d78-bbb6-9186030243fc"
      },
      "execution_count": null,
      "outputs": [
        {
          "output_type": "stream",
          "name": "stdout",
          "text": [
            "['Apple', 'Banana', 'Orange', 'Grape']\n"
          ]
        }
      ]
    },
    {
      "cell_type": "markdown",
      "source": [
        "9.\tJoin Lists:  \n",
        "•\tCreate two lists of numbers.  \n",
        "•\tJoin the two lists into a single list."
      ],
      "metadata": {
        "id": "1uhaXPo-4X1T"
      }
    },
    {
      "cell_type": "code",
      "source": [
        "list1 = [1, 2, 3]\n",
        "list2 = [4, 5, 6]\n",
        "joined_list = list1 + list2\n",
        "print(joined_list)"
      ],
      "metadata": {
        "colab": {
          "base_uri": "https://localhost:8080/"
        },
        "id": "XF1Ao6VV4bl9",
        "outputId": "d1507d4f-4e88-43df-ffb8-bc559f915636"
      },
      "execution_count": null,
      "outputs": [
        {
          "output_type": "stream",
          "name": "stdout",
          "text": [
            "[1, 2, 3, 4, 5, 6]\n"
          ]
        }
      ]
    },
    {
      "cell_type": "markdown",
      "source": [
        "10.\tList Methods:  \n",
        "•\tCreate a list of fruits.  \n",
        "•\tUse the append() method to add a new fruit to the list.  \n",
        "•\tUse the pop() method to remove the last fruit from the list."
      ],
      "metadata": {
        "id": "Yw_V0-Cv4geU"
      }
    },
    {
      "cell_type": "code",
      "source": [
        "fruits = [\"Apple\", \"Banana\", \"Orange\"]\n",
        "fruits.append(\"Kiwi\")\n",
        "print(fruits)\n",
        "fruits.pop()\n",
        "print(fruits)"
      ],
      "metadata": {
        "colab": {
          "base_uri": "https://localhost:8080/"
        },
        "id": "Hc7d5V6v4loz",
        "outputId": "1d2ee280-5d8e-499e-84c5-9f3854abebd7"
      },
      "execution_count": null,
      "outputs": [
        {
          "output_type": "stream",
          "name": "stdout",
          "text": [
            "['Apple', 'Banana', 'Orange', 'Kiwi']\n",
            "['Apple', 'Banana', 'Orange']\n"
          ]
        }
      ]
    },
    {
      "cell_type": "markdown",
      "source": [
        "11.\tCombining Lists and List Comprehension:  \n",
        "•\tCreate two lists, one containing numbers from 1 to 5 and another containing numbers from 6 to 10.  \n",
        "•\tUse list comprehension to create a new list that contains the sum of corresponding elements from the two lists."
      ],
      "metadata": {
        "id": "KmG8Rn6K4sx9"
      }
    },
    {
      "cell_type": "code",
      "source": [
        "list1 = [1, 2, 3, 4, 5]\n",
        "list2 = [6, 7, 8, 9, 10]\n",
        "combined_list = [x + y for x, y in zip(list1, list2)]\n",
        "print(combined_list)"
      ],
      "metadata": {
        "colab": {
          "base_uri": "https://localhost:8080/"
        },
        "id": "y1p7uYsS4zrs",
        "outputId": "f69cf0a3-0c89-4391-a517-944a9126d907"
      },
      "execution_count": null,
      "outputs": [
        {
          "output_type": "stream",
          "name": "stdout",
          "text": [
            "[7, 9, 11, 13, 15]\n"
          ]
        }
      ]
    },
    {
      "cell_type": "markdown",
      "source": [
        "12.\tFiltering and Sorting:  \n",
        "Create a list of numbers.  \n",
        "•\tUse list comprehension to create a new list containing only the even numbers from the original list.  \n",
        "•\tSort the new list in descending order."
      ],
      "metadata": {
        "id": "VfSIC-QZ46f8"
      }
    },
    {
      "cell_type": "code",
      "source": [
        "numbers = [2, 5, 8, 10, 3, 7, 9, 4, 6]\n",
        "even_numbers = [num for num in numbers if num % 2 == 0]\n",
        "even_numbers.sort(reverse=True)\n",
        "print(even_numbers)"
      ],
      "metadata": {
        "colab": {
          "base_uri": "https://localhost:8080/"
        },
        "id": "XfpRTvTV5AJ7",
        "outputId": "52f75b7b-1def-404d-d75a-b6a28c7e6657"
      },
      "execution_count": null,
      "outputs": [
        {
          "output_type": "stream",
          "name": "stdout",
          "text": [
            "[10, 8, 6, 4, 2]\n"
          ]
        }
      ]
    },
    {
      "cell_type": "markdown",
      "source": [
        "13.\tList Slicing and Reversing:  \n",
        "•\tCreate a list of numbers from 1 to 10.  \n",
        "•\tUse list slicing to create a new list containing only the even numbers from the original list, in reverse order."
      ],
      "metadata": {
        "id": "qG0VIC_K5Igk"
      }
    },
    {
      "cell_type": "code",
      "source": [
        "numbers = list(range(1, 11))\n",
        "even_reverse = numbers[1:10:2][::-1]\n",
        "print(even_reverse)"
      ],
      "metadata": {
        "colab": {
          "base_uri": "https://localhost:8080/"
        },
        "id": "BUb8F8N45K2b",
        "outputId": "1af870f5-5edc-4a6e-8da2-c6efd0a87aa6"
      },
      "execution_count": null,
      "outputs": [
        {
          "output_type": "stream",
          "name": "stdout",
          "text": [
            "[10, 8, 6, 4, 2]\n"
          ]
        }
      ]
    },
    {
      "cell_type": "markdown",
      "source": [
        "14.\tCombining Lists and List Methods:  \n",
        "•\tCreate two lists, one containing even numbers and another containing odd numbers.  \n",
        "•\tUse list methods to combine the two lists into a single list, alternating between even and odd numbers."
      ],
      "metadata": {
        "id": "ex0b_1NY5OXH"
      }
    },
    {
      "cell_type": "code",
      "source": [
        "even_numbers = [2, 4, 6, 8, 10]\n",
        "odd_numbers = [1, 3, 5, 7, 9]\n",
        "combined_list = []\n",
        "for even, odd in zip(even_numbers, odd_numbers):\n",
        "    combined_list.append(even)\n",
        "    combined_list.append(odd)\n",
        "print(combined_list)"
      ],
      "metadata": {
        "colab": {
          "base_uri": "https://localhost:8080/"
        },
        "id": "RAXEmpTp5TIQ",
        "outputId": "77585bdf-3c43-4795-9957-7e9478eae10c"
      },
      "execution_count": null,
      "outputs": [
        {
          "output_type": "stream",
          "name": "stdout",
          "text": [
            "[2, 1, 4, 3, 6, 5, 8, 7, 10, 9]\n"
          ]
        }
      ]
    }
  ]
}