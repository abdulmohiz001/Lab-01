{
  "nbformat": 4,
  "nbformat_minor": 0,
  "metadata": {
    "colab": {
      "provenance": [],
      "authorship_tag": "ABX9TyP+pOj+0SPE7H5w2Lbs2ni8",
      "include_colab_link": true
    },
    "kernelspec": {
      "name": "python3",
      "display_name": "Python 3"
    },
    "language_info": {
      "name": "python"
    }
  },
  "cells": [
    {
      "cell_type": "markdown",
      "metadata": {
        "id": "view-in-github",
        "colab_type": "text"
      },
      "source": [
        "<a href=\"https://colab.research.google.com/github/abdulmohiz001/Lab-01/blob/main/Abdul_Mohiz%20(Lab%2002%20-%2003).ipynb\" target=\"_parent\"><img src=\"https://colab.research.google.com/assets/colab-badge.svg\" alt=\"Open In Colab\"/></a>"
      ]
    },
    {
      "cell_type": "markdown",
      "source": [
        "Task 01:\n",
        "1.\tPrint at least 5 types of data type"
      ],
      "metadata": {
        "id": "1visnJFE-_Ug"
      }
    },
    {
      "cell_type": "code",
      "source": [
        "# 1. Print at least 5 types of data type\n",
        "print(\"Data types:\")\n",
        "#Integars\n",
        "a = 5\n",
        "print(a)\n",
        "print(type(a))\n",
        "\n",
        "b = 10\n",
        "print(b)\n",
        "print(type(b))\n",
        "\n",
        "c = 15\n",
        "print(c)\n",
        "print(type(c))\n",
        "\n",
        "d = 20\n",
        "print(d)\n",
        "print(type(d))\n",
        "\n",
        "e = 25\n",
        "print(e)\n",
        "print(type(e))\n",
        "\n",
        "#Float\n",
        "x = 1.0\n",
        "print(x)\n",
        "print(type(x))\n",
        "\n",
        "y = 2.3\n",
        "print(y)\n",
        "print(type(y))\n",
        "\n",
        "z = 3.65\n",
        "print(z)\n",
        "print(type(z))\n",
        "\n",
        "p = 4.89\n",
        "print(p)\n",
        "print(type(p))\n",
        "\n",
        "q = 9.02\n",
        "print(q)\n",
        "print(type(q))\n",
        "\n",
        "#Complex Number\n",
        "m = 2 + 3j\n",
        "print(m)\n",
        "print(type(m))\n",
        "\n",
        "n = 1 + 5j\n",
        "print(n)\n",
        "print(type(n))\n",
        "\n",
        "o = 5 + 7j\n",
        "print(o)\n",
        "print(type(o))\n",
        "\n",
        "k = 9 + 3j\n",
        "print(k)\n",
        "print(type(k))\n",
        "\n",
        "l = 7 + 2j\n",
        "print(l)\n",
        "print(type(l))"
      ],
      "metadata": {
        "colab": {
          "base_uri": "https://localhost:8080/"
        },
        "id": "H2tVs9Zn_02Y",
        "outputId": "2a463a7f-d6c9-4fde-e0a8-6bc69e07f96b"
      },
      "execution_count": 10,
      "outputs": [
        {
          "output_type": "stream",
          "name": "stdout",
          "text": [
            "Data types:\n",
            "5\n",
            "<class 'int'>\n",
            "10\n",
            "<class 'int'>\n",
            "15\n",
            "<class 'int'>\n",
            "20\n",
            "<class 'int'>\n",
            "25\n",
            "<class 'int'>\n",
            "1.0\n",
            "<class 'float'>\n",
            "2.3\n",
            "<class 'float'>\n",
            "3.65\n",
            "<class 'float'>\n",
            "4.89\n",
            "<class 'float'>\n",
            "9.02\n",
            "<class 'float'>\n",
            "(2+3j)\n",
            "<class 'complex'>\n",
            "(1+5j)\n",
            "<class 'complex'>\n",
            "(5+7j)\n",
            "<class 'complex'>\n",
            "(9+3j)\n",
            "<class 'complex'>\n",
            "(7+2j)\n",
            "<class 'complex'>\n"
          ]
        }
      ]
    },
    {
      "cell_type": "markdown",
      "source": [
        "Task 02:\n",
        "2.\tWrite example of type conversion for each ( minimum 3)"
      ],
      "metadata": {
        "id": "jqbSgUw6AAXW"
      }
    },
    {
      "cell_type": "code",
      "source": [
        "#Example of type conversion for each\n",
        "print(\"Type conversions:\")\n",
        "\n",
        "# Integer to float\n",
        "int_to_float = float(5)\n",
        "print(int_to_float)\n",
        "\n",
        "# Float to integer\n",
        "float_to_int = int(3.14)\n",
        "print(float_to_int)\n",
        "\n",
        "# Complex to integer\n",
        "complex_to_integer = complex(5)\n",
        "print(complex_to_integer)"
      ],
      "metadata": {
        "colab": {
          "base_uri": "https://localhost:8080/"
        },
        "id": "B05XrTxBAE89",
        "outputId": "6979249b-6941-4a33-903b-131acae65dd6"
      },
      "execution_count": 11,
      "outputs": [
        {
          "output_type": "stream",
          "name": "stdout",
          "text": [
            "Type conversions:\n",
            "5.0\n",
            "3\n",
            "(5+0j)\n"
          ]
        }
      ]
    },
    {
      "cell_type": "markdown",
      "source": [
        "Task 03:\n",
        "3.\tAssign multiple strings to single variable with your name , registration number, program , semester etc"
      ],
      "metadata": {
        "id": "EE0EeOHQAajL"
      }
    },
    {
      "cell_type": "code",
      "source": [
        "# Assigning multiple strings to a single variable\n",
        "personal_info = {\n",
        "    \"Name\": \"John Doe\",\n",
        "    \"Registration_Number\": \"B21F0169AI016\",\n",
        "    \"Program\": \"Artificial Intelligence\",\n",
        "    \"Semester\": \"Fall 2021\"\n",
        "}\n",
        "\n",
        "# Accessing individual pieces of information\n",
        "print(\"Name:\", personal_info[\"Name\"])\n",
        "print(\"Registration Number:\", personal_info[\"Registration_Number\"])\n",
        "print(\"Program:\", personal_info[\"Program\"])\n",
        "print(\"Semester:\", personal_info[\"Semester\"])"
      ],
      "metadata": {
        "colab": {
          "base_uri": "https://localhost:8080/"
        },
        "id": "zUXzAXwVAkwC",
        "outputId": "8133243a-2e06-49d5-a446-836d2331447e"
      },
      "execution_count": 12,
      "outputs": [
        {
          "output_type": "stream",
          "name": "stdout",
          "text": [
            "Name: John Doe\n",
            "Registration Number: B21F0169AI016\n",
            "Program: Artificial Intelligence\n",
            "Semester: Fall 2021\n"
          ]
        }
      ]
    },
    {
      "cell_type": "markdown",
      "source": [
        "Task 04:\n",
        "4.\tWrite Your country name and access the last 3 characters"
      ],
      "metadata": {
        "id": "9iptdeATAydS"
      }
    },
    {
      "cell_type": "code",
      "source": [
        "# Access the last 3 characters of country name\n",
        "country = \"Pakistan\"\n",
        "last_three_characters = country[-3:]\n",
        "print(\"Last three characters of country name:\", last_three_characters)"
      ],
      "metadata": {
        "colab": {
          "base_uri": "https://localhost:8080/"
        },
        "id": "nwnyjkQvFx52",
        "outputId": "9e04fd7f-902a-46ad-faff-4659aa4388d7"
      },
      "execution_count": 13,
      "outputs": [
        {
          "output_type": "stream",
          "name": "stdout",
          "text": [
            "Last three characters of country name: tan\n"
          ]
        }
      ]
    },
    {
      "cell_type": "markdown",
      "source": [
        "Task 05:\n",
        "5.\tWrite code and observe using len() function it count space or not."
      ],
      "metadata": {
        "id": "FbdE1G8JGIwQ"
      }
    },
    {
      "cell_type": "code",
      "source": [
        "# Using len() function to count spaces\n",
        "sentence = \"Hello world\"\n",
        "print(\"Length of sentence including spaces:\", len(sentence))\n",
        "print(\"Length of sentence excluding spaces:\", len(sentence.replace(\" \", \"\")))"
      ],
      "metadata": {
        "colab": {
          "base_uri": "https://localhost:8080/"
        },
        "id": "riejYBHiGJcX",
        "outputId": "fa73973e-e906-4c5c-f57b-8dc55f13b303"
      },
      "execution_count": 14,
      "outputs": [
        {
          "output_type": "stream",
          "name": "stdout",
          "text": [
            "Length of sentence including spaces: 11\n",
            "Length of sentence excluding spaces: 10\n"
          ]
        }
      ]
    },
    {
      "cell_type": "markdown",
      "source": [
        "Task 06:\n",
        "6.\tWrite code to access the 2nd and 3rd character of your name using negative indexes."
      ],
      "metadata": {
        "id": "_9fQWTFiGvgA"
      }
    },
    {
      "cell_type": "code",
      "source": [
        "# 6. Access the 2nd and 3rd character of name using negative indexes\n",
        "name = \"Mohiz\"\n",
        "print(\"2nd and 3rd characters of name using negative indexes:\", name[-4:-2])"
      ],
      "metadata": {
        "colab": {
          "base_uri": "https://localhost:8080/"
        },
        "id": "BTfjAh09G5LM",
        "outputId": "2a288102-0ef4-4cc9-d1af-5873f6a346a3"
      },
      "execution_count": 17,
      "outputs": [
        {
          "output_type": "stream",
          "name": "stdout",
          "text": [
            "2nd and 3rd characters of name using negative indexes: oh\n"
          ]
        }
      ]
    },
    {
      "cell_type": "markdown",
      "source": [
        "Task 07:\n",
        "7.\tWrite python code in which you pass index number to format() function and arguments must be 4 and same code without indexes."
      ],
      "metadata": {
        "id": "BSm9j5PtHZXy"
      }
    },
    {
      "cell_type": "code",
      "source": [
        "# With indexes\n",
        "line = \"My name is {0} and I am {1} years old.\"\n",
        "formatted_line = line.format(\"Abdul\", 10)\n",
        "print(formatted_line)\n",
        "\n",
        "# Without indexes\n",
        "line = \"My name is {} and I am {} years old.\"\n",
        "formatted_line = line.format(\"Mohiz\", 20)\n",
        "print(formatted_line)"
      ],
      "metadata": {
        "colab": {
          "base_uri": "https://localhost:8080/"
        },
        "id": "rsbfO7DcHfM_",
        "outputId": "d6ae0d28-0bb2-4157-cbda-89c7e19eca64"
      },
      "execution_count": 18,
      "outputs": [
        {
          "output_type": "stream",
          "name": "stdout",
          "text": [
            "My name is Abdul and I am 10 years old.\n",
            "My name is Mohiz and I am 20 years old.\n"
          ]
        }
      ]
    },
    {
      "cell_type": "markdown",
      "source": [
        "Task 08:\n",
        "8.\tTake input from user and  than display it like “John age is: age”\n"
      ],
      "metadata": {
        "id": "grKATREOIDY2"
      }
    },
    {
      "cell_type": "code",
      "source": [
        "# Taking input from the user\n",
        "name = input(\"Enter your name: \")\n",
        "\n",
        "age = input(\"Enter your age: \")\n",
        "\n",
        "print(f\"{name} and my age is : {age}\")"
      ],
      "metadata": {
        "colab": {
          "base_uri": "https://localhost:8080/"
        },
        "id": "9WOnaMeYIMTa",
        "outputId": "a7c97f22-3231-458c-c4e0-154ce61aaa0f"
      },
      "execution_count": 21,
      "outputs": [
        {
          "output_type": "stream",
          "name": "stdout",
          "text": [
            "Enter your name: Abdul Mohiz\n",
            "Enter your age: 20\n",
            "Abdul Mohiz and my age is : 20\n"
          ]
        }
      ]
    }
  ]
}